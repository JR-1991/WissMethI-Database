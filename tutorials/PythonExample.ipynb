{
 "cells": [
  {
   "cell_type": "markdown",
   "id": "7a7cf93f",
   "metadata": {},
   "source": [
    "### Einführung in Jupyter Notebooks\n",
    "\n",
    "Ein Jupyter Notebook ist in sogenannte Zellen unterteilt, die entweder **Code** oder **Text** enthalten können. Diese Zellen sind der Hauptbestandteil des Notebooks und ermöglichen es dir, interaktiv zu arbeiten.\n",
    "\n",
    "### Aufbau eines Notebooks\n",
    "\n",
    "Ein typisches Jupyter Notebook enthält:\n",
    "- **Code-Zellen:** Hier schreibst du Python-Code oder andere unterstützte Programmiersprachen. Der Code wird ausgeführt, und die Ergebnisse werden direkt darunter angezeigt.\n",
    "- **Markdown-Zellen:** Diese werden genutzt, um Text, Überschriften, Listen oder Tabellen zu erstellen und dienen der Dokumentation.\n",
    "\n",
    "Oben im Browser-Fenster befindet sich die Toolbar. Dort kannst du den Typ einer Zelle ändern, Zellen ausführen oder den Kernel (die Recheninstanz) steuern.  \n",
    "\n",
    "### Zellen ausführen\n",
    "\n",
    "Um eine Zelle auszuführen, klicke sie an und drücke:\n",
    "\n",
    "- **Shift + Enter**, um die aktuelle Zelle auszuführen und zur nächsten zu springen.\n",
    "- **Ctrl + Enter**, um die Zelle auszuführen und in der aktuellen Zelle zu bleiben.\n",
    "\n",
    "Beim Ausführen einer **Code-Zelle** siehst du die Ausgabe (zum Beispiel Ergebnisse von Berechnungen oder Text), direkt unter der Zelle. Bei einer **Markdown-Zelle** wird der Text formatiert angezeigt.\n",
    "\n",
    "### Wie kann ich dieses Notebook nutzen?\n",
    "\n",
    "Klicken Sie auf den folgenden Button, um dieses Notebook in [Google Colab](https://colab.research.google.com) nutzen zu können:\n",
    "\n",
    "<p align=\"left\">\n",
    "    <a target=\"_blank\" href=\"https://colab.research.google.com/github/JR-1991/WissMethI-Database/blob/master/tutorials/PythonExample.ipynb\">\n",
    "      <img src=\"https://colab.research.google.com/assets/colab-badge.svg\" alt=\"Open In Colab\"/>\n",
    "    </a>\n",
    "</p>\n",
    "\n",
    "Das war's auch schon! Viel Spaß beim Ausprobieren. 😊"
   ]
  },
  {
   "cell_type": "code",
   "execution_count": null,
   "id": "578f8685",
   "metadata": {
    "scrolled": true
   },
   "outputs": [],
   "source": [
    "# Führen Sie diese Zelle aus, um die notwendigen Pakete zu installieren.\n",
    "\n",
    "!pip install mysql-connector-python pandas seaborn"
   ]
  },
  {
   "cell_type": "code",
   "execution_count": 106,
   "id": "39a46c2c",
   "metadata": {},
   "outputs": [],
   "source": [
    "# Führen Sie diese Zelle aus, um die notwendigen Pakete zu nutzen.\n",
    "\n",
    "import rich\n",
    "import warnings\n",
    "import pandas as pd\n",
    "import seaborn as sns\n",
    "import matplotlib.pyplot as plt\n",
    "import mysql.connector\n",
    "\n",
    "warnings.filterwarnings(\"ignore\")\n",
    "sns.set(style=\"whitegrid\")"
   ]
  },
  {
   "cell_type": "markdown",
   "id": "5ae6c21a",
   "metadata": {},
   "source": [
    "### Helper-Funktionen\n",
    "\n",
    "Die folgende Zelle können Sie ignorieren. Sie dient dazu, Funktionen bereitzustellen, die Ihnen bei der Ausführung Ihrer Abfragen und der Visualisierung Ihrer Ergebnisse helfen. \n",
    "\n",
    "#### **Beschreibung der Helper-Funktionen**\n",
    "\n",
    "1. **`query_database`**  \n",
    "   Diese Funktion führt eine SQL-Abfrage aus und gibt die Ergebnisse in einem übersichtlichen Pandas DataFrame zurück.  \n",
    "   - **Eingaben:** Die SQL-Abfrage (`query`) und die Datenbankverbindung (`connection`).\n",
    "   - **Ausgabe:** Die Ergebnisse der Abfrage als `pd.DataFrame`.\n",
    "   - **Nutzen:** Ermöglicht es Ihnen, Daten direkt aus einer Datenbank abzurufen und anzuzeigen.\n",
    "\n",
    "2. **`plot`**  \n",
    "   Diese Funktion erstellt ein Streudiagramm basierend auf den angegebenen Daten und Achsen.  \n",
    "   - **Eingaben:** \n",
    "     - Das DataFrame (`df`) mit den Daten. \n",
    "     - Der Diagrammtitel (`title`) und die Spaltennamen für die Achsen (`x` und `y`). \n",
    "     - Beschriftungen für die Achsen (`x_label`, `y_label`). \n",
    "     - Optional: Logarithmische Skalierung für beide Achsen (`loglog`).\n",
    "   - **Ausgabe:** Kein Rückgabewert, aber das Diagramm wird direkt angezeigt.\n",
    "   - **Nutzen:** Hilft bei der Visualisierung von Abfrageergebnissen."
   ]
  },
  {
   "cell_type": "code",
   "execution_count": 111,
   "id": "e986d4a7",
   "metadata": {},
   "outputs": [],
   "source": [
    "def query_database(query: str, connection) -> pd.DataFrame:\n",
    "    \"\"\"\n",
    "    Führt eine SQL-Abfrage aus und gibt die Ergebnisse als Pandas DataFrame zurück.\n",
    "\n",
    "    Args:\n",
    "        query (str): Die SQL-Abfrage, die ausgeführt werden soll.\n",
    "        connection: Die Datenbankverbindung, die für die Abfrage verwendet wird.\n",
    "\n",
    "    Returns:\n",
    "        pd.DataFrame: Die Ergebnisse der SQL-Abfrage.\n",
    "    \"\"\"\n",
    "    res = pd.read_sql(query, connection)\n",
    "    rich.print(res)\n",
    "    return res\n",
    "\n",
    "\n",
    "def plot(\n",
    "    df: pd.DataFrame,\n",
    "    title: str,\n",
    "    x: str,\n",
    "    y: str,\n",
    "    x_label: str,\n",
    "    y_label: str,\n",
    "    loglog: bool = False,\n",
    "):\n",
    "    \"\"\"\n",
    "    Erstellt ein Streudiagramm mit den angegebenen Daten und Achsentiteln.\n",
    "\n",
    "    Args:\n",
    "        df (pd.DataFrame): Das DataFrame, das die Daten enthält.\n",
    "        title (str): Der Titel des Diagramms.\n",
    "        x (str): Die Spalte für die x-Achse.\n",
    "        y (str): Die Spalte für die y-Achse.\n",
    "        x_label (str): Der Beschriftungstext der x-Achse.\n",
    "        y_label (str): Der Beschriftungstext der y-Achse.\n",
    "        loglog (bool, optional): Gibt an, ob eine logarithmische Skalierung für beide Achsen verwendet werden soll. Standard ist False.\n",
    "\n",
    "    Returns:\n",
    "        None\n",
    "    \"\"\"\n",
    "    f = sns.scatterplot(data=df, x=x, y=y)\n",
    "    f.set_title(title)\n",
    "    f.set_xlabel(x_label)\n",
    "    f.set_ylabel(y_label)\n",
    "    f.grid(True, linestyle=\":\", alpha=0.5)\n",
    "\n",
    "    if loglog:\n",
    "        f.set(xscale=\"log\", yscale=\"log\")\n",
    "\n",
    "    sns.despine()"
   ]
  },
  {
   "cell_type": "markdown",
   "id": "b5851ff5",
   "metadata": {},
   "source": [
    "## Ausführung der Übung\n",
    "\n",
    "Sie können die folgenden Zellen beliebig oft anpassen und ausführen. Experimentieren Sie nach Belieben und entdecken Sie die Möglichkeiten!"
   ]
  },
  {
   "cell_type": "markdown",
   "id": "d4a2819d",
   "metadata": {},
   "source": [
    "### Verbindung zur Datenbank\n",
    "\n",
    "In dieser Zelle stellen Sie eine Verbindung zur Datenbank her. Nutzen Sie dazu bitte die im ILIAS-Kurs zur Verfügung gestellten Daten zum Verbinden. Dazu editieren Sie die entsprechenden Argumente innerhalb der `connect`-Funktion und führen die Zelle mittels des \"Play\" Button aus."
   ]
  },
  {
   "cell_type": "code",
   "execution_count": 108,
   "id": "77c68ff9",
   "metadata": {},
   "outputs": [],
   "source": [
    "# Verbindung zur MySQL-Datenbank herstellen\n",
    "db_connection = mysql.connector.connect(\n",
    "    host=\"127.0.0.1\",\n",
    "    user=\"user\",\n",
    "    port=3307,\n",
    "    password=\"supersecurepassword\",\n",
    "    database=\"mixtures\"\n",
    ")"
   ]
  },
  {
   "cell_type": "markdown",
   "id": "a078ffd9",
   "metadata": {},
   "source": [
    "### Ausführen der Abfrage\n",
    "\n",
    "Geben Sie Ihren SQL-Befehl in die entsprechende Zelle ein und führen Sie diese über das **\"Play\"-Symbol** oder mit **Shift + Enter** aus. Das Ergebnis Ihrer Abfrage wird automatisch angezeigt und in der Variable `data` gespeichert. \n",
    "\n",
    "Um die Aufgabe zu lösen, müssen Sie lediglich den SQL-Befehl anpassen. Zusätzliche Schritte oder Programmierung in Python sind nicht erforderlich."
   ]
  },
  {
   "cell_type": "code",
   "execution_count": 109,
   "id": "63b6ee34",
   "metadata": {},
   "outputs": [
    {
     "data": {
      "text/html": [
       "<pre style=\"white-space:pre;overflow-x:auto;line-height:normal;font-family:Menlo,'DejaVu Sans Mono',consolas,'Courier New',monospace\">   temperature  density\n",
       "<span style=\"color: #008080; text-decoration-color: #008080; font-weight: bold\">0</span>       <span style=\"color: #008080; text-decoration-color: #008080; font-weight: bold\">298.15</span>   <span style=\"color: #008080; text-decoration-color: #008080; font-weight: bold\">1.1558</span>\n",
       "<span style=\"color: #008080; text-decoration-color: #008080; font-weight: bold\">1</span>       <span style=\"color: #008080; text-decoration-color: #008080; font-weight: bold\">298.15</span>   <span style=\"color: #008080; text-decoration-color: #008080; font-weight: bold\">1.1920</span>\n",
       "<span style=\"color: #008080; text-decoration-color: #008080; font-weight: bold\">2</span>       <span style=\"color: #008080; text-decoration-color: #008080; font-weight: bold\">298.15</span>   <span style=\"color: #008080; text-decoration-color: #008080; font-weight: bold\">1.2030</span>\n",
       "<span style=\"color: #008080; text-decoration-color: #008080; font-weight: bold\">3</span>       <span style=\"color: #008080; text-decoration-color: #008080; font-weight: bold\">303.15</span>   <span style=\"color: #008080; text-decoration-color: #008080; font-weight: bold\">1.1535</span>\n",
       "<span style=\"color: #008080; text-decoration-color: #008080; font-weight: bold\">4</span>       <span style=\"color: #008080; text-decoration-color: #008080; font-weight: bold\">303.15</span>   <span style=\"color: #008080; text-decoration-color: #008080; font-weight: bold\">1.1895</span>\n",
       "<span style=\"color: #008080; text-decoration-color: #008080; font-weight: bold\">5</span>       <span style=\"color: #008080; text-decoration-color: #008080; font-weight: bold\">303.15</span>   <span style=\"color: #008080; text-decoration-color: #008080; font-weight: bold\">1.2002</span>\n",
       "<span style=\"color: #008080; text-decoration-color: #008080; font-weight: bold\">6</span>       <span style=\"color: #008080; text-decoration-color: #008080; font-weight: bold\">308.15</span>   <span style=\"color: #008080; text-decoration-color: #008080; font-weight: bold\">1.1506</span>\n",
       "<span style=\"color: #008080; text-decoration-color: #008080; font-weight: bold\">7</span>       <span style=\"color: #008080; text-decoration-color: #008080; font-weight: bold\">308.15</span>   <span style=\"color: #008080; text-decoration-color: #008080; font-weight: bold\">1.1867</span>\n",
       "<span style=\"color: #008080; text-decoration-color: #008080; font-weight: bold\">8</span>       <span style=\"color: #008080; text-decoration-color: #008080; font-weight: bold\">308.15</span>   <span style=\"color: #008080; text-decoration-color: #008080; font-weight: bold\">1.1976</span>\n",
       "<span style=\"color: #008080; text-decoration-color: #008080; font-weight: bold\">9</span>       <span style=\"color: #008080; text-decoration-color: #008080; font-weight: bold\">313.15</span>   <span style=\"color: #008080; text-decoration-color: #008080; font-weight: bold\">1.1483</span>\n",
       "</pre>\n"
      ],
      "text/plain": [
       "   temperature  density\n",
       "\u001b[1;36m0\u001b[0m       \u001b[1;36m298.15\u001b[0m   \u001b[1;36m1.1558\u001b[0m\n",
       "\u001b[1;36m1\u001b[0m       \u001b[1;36m298.15\u001b[0m   \u001b[1;36m1.1920\u001b[0m\n",
       "\u001b[1;36m2\u001b[0m       \u001b[1;36m298.15\u001b[0m   \u001b[1;36m1.2030\u001b[0m\n",
       "\u001b[1;36m3\u001b[0m       \u001b[1;36m303.15\u001b[0m   \u001b[1;36m1.1535\u001b[0m\n",
       "\u001b[1;36m4\u001b[0m       \u001b[1;36m303.15\u001b[0m   \u001b[1;36m1.1895\u001b[0m\n",
       "\u001b[1;36m5\u001b[0m       \u001b[1;36m303.15\u001b[0m   \u001b[1;36m1.2002\u001b[0m\n",
       "\u001b[1;36m6\u001b[0m       \u001b[1;36m308.15\u001b[0m   \u001b[1;36m1.1506\u001b[0m\n",
       "\u001b[1;36m7\u001b[0m       \u001b[1;36m308.15\u001b[0m   \u001b[1;36m1.1867\u001b[0m\n",
       "\u001b[1;36m8\u001b[0m       \u001b[1;36m308.15\u001b[0m   \u001b[1;36m1.1976\u001b[0m\n",
       "\u001b[1;36m9\u001b[0m       \u001b[1;36m313.15\u001b[0m   \u001b[1;36m1.1483\u001b[0m\n"
      ]
     },
     "metadata": {},
     "output_type": "display_data"
    }
   ],
   "source": [
    "query = \"\"\"\n",
    "SELECT temperature, density FROM density LIMIT 10\n",
    "\"\"\"\n",
    "\n",
    "data = query_database(query, db_connection)"
   ]
  },
  {
   "cell_type": "markdown",
   "id": "52b29992",
   "metadata": {},
   "source": [
    "### Visualisierung\n",
    "\n",
    "Im Folgenden können Sie die erhaltenen Daten visualisieren. Passen Sie die Argumente der Visualisierungsfunktion entsprechend an. \n",
    "\n",
    "- Mit den Parametern `x` und `y` steuern Sie, **welche** Spalten der Daten genutzt werden. Die Spaltennamen können Sie der Ausgabe der vorherigen Zelle entnehmen.\n",
    "- Die Achsenbeschriftungen können Sie mit `x_label` und `y_label` individuell anpassen.\n",
    "- Es ist **wichtig**, dass Sie die Daten mit `df=data` korrekt übergeben, da sonst keine Visualisierung erstellt wird.\n",
    "\n",
    "Um Ihren Plot zu speichern, klicken Sie mit der rechten Maustaste auf die Grafik und wählen Sie **\"Bild speichern unter\"** (auf macOS oder vergleichbaren Betriebssystemen). So können Sie die Visualisierung lokal herunterladen."
   ]
  },
  {
   "cell_type": "code",
   "execution_count": 105,
   "id": "3092a9b8",
   "metadata": {},
   "outputs": [
    {
     "data": {
      "image/png": "[encoded data removed]",
      "text/plain": [
       "<Figure size 640x480 with 1 Axes>"
      ]
     },
     "metadata": {},
     "output_type": "display_data"
    }
   ],
   "source": [
    "f = plot(\n",
    "    df=data,\n",
    "    title=\"Density vs. Temperature\",\n",
    "    x=\"temperature\",\n",
    "    y=\"density\",\n",
    "    x_label=\"Temperature\",\n",
    "    y_label=\"Viscosity\",\n",
    "    loglog=False # Auf 'True' setzen für Log-Log Plot\n",
    ")"
   ]
  }
 ],
 "metadata": {
  "kernelspec": {
   "display_name": "Python 3 (ipykernel)",
   "language": "python",
   "name": "python3"
  },
  "language_info": {
   "codemirror_mode": {
    "name": "ipython",
    "version": 3
   },
   "file_extension": ".py",
   "mimetype": "text/x-python",
   "name": "python",
   "nbconvert_exporter": "python",
   "pygments_lexer": "ipython3",
   "version": "3.11.5"
  }
 },
 "nbformat": 4,
 "nbformat_minor": 5
}
